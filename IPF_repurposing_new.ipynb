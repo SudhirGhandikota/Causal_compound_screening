{
 "cells": [
  {
   "cell_type": "code",
   "execution_count": 1,
   "id": "20899b94",
   "metadata": {},
   "outputs": [],
   "source": [
    "import numpy as np\n",
    "import pandas as pd\n",
    "from scipy.stats import spearmanr\n",
    "from collections import Counter, defaultdict\n",
    "import os\n",
    "from scipy.stats import spearmanr"
   ]
  },
  {
   "cell_type": "code",
   "execution_count": 2,
   "id": "c83b1f3e",
   "metadata": {},
   "outputs": [],
   "source": [
    "def compute_correlation(drug_sig, disease_sig):\n",
    "    drug_sig = np.array(drug_sig)\n",
    "    disease_sig = np.array(disease_sig)\n",
    "    corrs = np.zeros((len(drug_sig)), dtype=float)\n",
    "    pvals = np.zeros((len(drug_sig)), dtype=float)\n",
    "    for i, d1 in enumerate(drug_sig):\n",
    "        res = spearmanr(d1, disease_sig)\n",
    "        corrs[i] = spearmanr(d1, disease_sig)[0]\n",
    "        pvals[i] = spearmanr(d1, disease_sig)[1]\n",
    "    return corrs, pvals"
   ]
  },
  {
   "cell_type": "markdown",
   "id": "eb4a8ede",
   "metadata": {
    "heading_collapsed": true
   },
   "source": [
    "# BING results"
   ]
  },
  {
   "cell_type": "code",
   "execution_count": 58,
   "id": "58cf6511",
   "metadata": {
    "hidden": true
   },
   "outputs": [
    {
     "data": {
      "text/plain": [
       "14594"
      ]
     },
     "execution_count": 58,
     "metadata": {},
     "output_type": "execute_result"
    }
   ],
   "source": [
    "drug_status = pd.read_csv('DeepCE_BING/other files/drug_status_drugbank.txt', sep='\\t')\n",
    "status_dict = dict(zip(drug_status['Name'].str.lower(), drug_status['Group']))\n",
    "len(status_dict)"
   ]
  },
  {
   "cell_type": "code",
   "execution_count": 59,
   "id": "d5aaec9b",
   "metadata": {
    "hidden": true
   },
   "outputs": [],
   "source": [
    "cell_id_set = ['A375', 'HA1E', 'HELA', 'HT29', 'MCF7', 'PC3', 'YAPC']"
   ]
  },
  {
   "cell_type": "code",
   "execution_count": 60,
   "id": "8908dd43",
   "metadata": {
    "hidden": true
   },
   "outputs": [
    {
     "data": {
      "text/plain": [
       "(7948,)"
      ]
     },
     "execution_count": 60,
     "metadata": {},
     "output_type": "execute_result"
    }
   ],
   "source": [
    "predicted_drugs = np.load('DeepCE_BING/other files/predicted_drugs.npy')\n",
    "predicted_drugs.shape"
   ]
  },
  {
   "cell_type": "code",
   "execution_count": 61,
   "id": "11544730",
   "metadata": {
    "hidden": true
   },
   "outputs": [
    {
     "data": {
      "text/plain": [
       "(7948,)"
      ]
     },
     "execution_count": 61,
     "metadata": {},
     "output_type": "execute_result"
    }
   ],
   "source": [
    "drug_sources = np.load('DeepCE_BING/other files/predicted_drug_sources.npy')\n",
    "drug_sources.shape"
   ]
  },
  {
   "cell_type": "code",
   "execution_count": 62,
   "id": "fad31397",
   "metadata": {
    "hidden": true
   },
   "outputs": [
    {
     "data": {
      "text/plain": [
       "10174"
      ]
     },
     "execution_count": 62,
     "metadata": {},
     "output_type": "execute_result"
    }
   ],
   "source": [
    "genes = []\n",
    "with open('DeepCE_BING/other files/gene_vector.csv', 'r') as f:\n",
    "    for line in f:\n",
    "        line = line.strip().split(',')\n",
    "        genes.append(line[0].strip())\n",
    "len(genes)"
   ]
  },
  {
   "cell_type": "markdown",
   "id": "10c98279",
   "metadata": {
    "heading_collapsed": true,
    "hidden": true
   },
   "source": [
    "## 146 mediator candidates"
   ]
  },
  {
   "cell_type": "code",
   "execution_count": 106,
   "id": "0ac597c8",
   "metadata": {
    "hidden": true
   },
   "outputs": [
    {
     "data": {
      "text/html": [
       "<div>\n",
       "<style scoped>\n",
       "    .dataframe tbody tr th:only-of-type {\n",
       "        vertical-align: middle;\n",
       "    }\n",
       "\n",
       "    .dataframe tbody tr th {\n",
       "        vertical-align: top;\n",
       "    }\n",
       "\n",
       "    .dataframe thead th {\n",
       "        text-align: right;\n",
       "    }\n",
       "</style>\n",
       "<table border=\"1\" class=\"dataframe\">\n",
       "  <thead>\n",
       "    <tr style=\"text-align: right;\">\n",
       "      <th></th>\n",
       "      <th>Gene</th>\n",
       "      <th>NCBI Gene ID</th>\n",
       "      <th>Gene Name</th>\n",
       "      <th>Original Symbol</th>\n",
       "      <th>Relevance to Fibrosis</th>\n",
       "      <th>Relevance to IPF</th>\n",
       "      <th>Known/Novel Candidate</th>\n",
       "      <th>Therapeutic Investigation</th>\n",
       "      <th>Notes on Therapeutic Potential</th>\n",
       "      <th>Druggable</th>\n",
       "    </tr>\n",
       "  </thead>\n",
       "  <tbody>\n",
       "    <tr>\n",
       "      <th>0</th>\n",
       "      <td>CCL13</td>\n",
       "      <td>6357.0</td>\n",
       "      <td>C-C motif chemokine ligand 13</td>\n",
       "      <td>CCL13</td>\n",
       "      <td>Medium</td>\n",
       "      <td>Medium</td>\n",
       "      <td>Novel</td>\n",
       "      <td>Yes</td>\n",
       "      <td>Chemokine, involved in immune response</td>\n",
       "      <td>Yes</td>\n",
       "    </tr>\n",
       "    <tr>\n",
       "      <th>1</th>\n",
       "      <td>CCL19</td>\n",
       "      <td>6363.0</td>\n",
       "      <td>C-C motif chemokine ligand 19</td>\n",
       "      <td>CCL19</td>\n",
       "      <td>Medium</td>\n",
       "      <td>Medium</td>\n",
       "      <td>Novel</td>\n",
       "      <td>Yes</td>\n",
       "      <td>Chemokine, involved in immune response</td>\n",
       "      <td>Yes</td>\n",
       "    </tr>\n",
       "  </tbody>\n",
       "</table>\n",
       "</div>"
      ],
      "text/plain": [
       "    Gene  NCBI Gene ID                      Gene Name Original Symbol  \\\n",
       "0  CCL13        6357.0  C-C motif chemokine ligand 13           CCL13   \n",
       "1  CCL19        6363.0  C-C motif chemokine ligand 19           CCL19   \n",
       "\n",
       "  Relevance to Fibrosis Relevance to IPF Known/Novel Candidate  \\\n",
       "0                Medium           Medium                 Novel   \n",
       "1                Medium           Medium                 Novel   \n",
       "\n",
       "  Therapeutic Investigation          Notes on Therapeutic Potential Druggable  \n",
       "0                       Yes  Chemokine, involved in immune response       Yes  \n",
       "1                       Yes  Chemokine, involved in immune response       Yes  "
      ]
     },
     "execution_count": 106,
     "metadata": {},
     "output_type": "execute_result"
    }
   ],
   "source": [
    "targets=pd.read_excel('DeepCE_BING/other files/Mediator_Annotations.xlsx')\n",
    "targets.head(2)"
   ]
  },
  {
   "cell_type": "code",
   "execution_count": 107,
   "id": "5848e108",
   "metadata": {
    "hidden": true
   },
   "outputs": [
    {
     "data": {
      "text/plain": [
       "151"
      ]
     },
     "execution_count": 107,
     "metadata": {},
     "output_type": "execute_result"
    }
   ],
   "source": [
    "targets = targets['Gene'].unique().tolist()\n",
    "len(targets)"
   ]
  },
  {
   "cell_type": "code",
   "execution_count": 108,
   "id": "d5ececa1",
   "metadata": {
    "hidden": true
   },
   "outputs": [
    {
     "data": {
      "text/html": [
       "<div>\n",
       "<style scoped>\n",
       "    .dataframe tbody tr th:only-of-type {\n",
       "        vertical-align: middle;\n",
       "    }\n",
       "\n",
       "    .dataframe tbody tr th {\n",
       "        vertical-align: top;\n",
       "    }\n",
       "\n",
       "    .dataframe thead th {\n",
       "        text-align: right;\n",
       "    }\n",
       "</style>\n",
       "<table border=\"1\" class=\"dataframe\">\n",
       "  <thead>\n",
       "    <tr style=\"text-align: right;\">\n",
       "      <th></th>\n",
       "      <th>Gene</th>\n",
       "      <th>Module</th>\n",
       "      <th>Module_membership</th>\n",
       "      <th>Membership_pval</th>\n",
       "      <th>logFC</th>\n",
       "      <th>adj_pval</th>\n",
       "      <th>pval</th>\n",
       "      <th>sex</th>\n",
       "      <th>sex_pval</th>\n",
       "      <th>sex_adj</th>\n",
       "      <th>...</th>\n",
       "      <th>race_asian_adj</th>\n",
       "      <th>rs35705950_genotype_GG</th>\n",
       "      <th>rs35705950_genotype_GG_pval</th>\n",
       "      <th>rs35705950_genotype_GG_adj</th>\n",
       "      <th>rs35705950_genotype_GT</th>\n",
       "      <th>rs35705950_genotype_GT_pval</th>\n",
       "      <th>rs35705950_genotype_GT_adj</th>\n",
       "      <th>rs35705950_genotype_TT</th>\n",
       "      <th>rs35705950_genotype_TT_pval</th>\n",
       "      <th>rs35705950_genotype_TT_adj</th>\n",
       "    </tr>\n",
       "  </thead>\n",
       "  <tbody>\n",
       "    <tr>\n",
       "      <th>0</th>\n",
       "      <td>TSPAN6</td>\n",
       "      <td>brown</td>\n",
       "      <td>0.920</td>\n",
       "      <td>2.390000e-84</td>\n",
       "      <td>0.735</td>\n",
       "      <td>3.960773e-12</td>\n",
       "      <td>2.609257e-13</td>\n",
       "      <td>-0.0354</td>\n",
       "      <td>0.6130</td>\n",
       "      <td>0.8816</td>\n",
       "      <td>...</td>\n",
       "      <td>0.9909</td>\n",
       "      <td>-0.111</td>\n",
       "      <td>0.11340</td>\n",
       "      <td>0.4203</td>\n",
       "      <td>0.0958</td>\n",
       "      <td>0.170600</td>\n",
       "      <td>0.4895</td>\n",
       "      <td>0.0435</td>\n",
       "      <td>0.5349</td>\n",
       "      <td>0.9961</td>\n",
       "    </tr>\n",
       "    <tr>\n",
       "      <th>1</th>\n",
       "      <td>TNMD</td>\n",
       "      <td>turquoise</td>\n",
       "      <td>0.099</td>\n",
       "      <td>1.570000e-01</td>\n",
       "      <td>0.122</td>\n",
       "      <td>7.311232e-01</td>\n",
       "      <td>6.558297e-01</td>\n",
       "      <td>-0.0740</td>\n",
       "      <td>0.2904</td>\n",
       "      <td>0.7050</td>\n",
       "      <td>...</td>\n",
       "      <td>0.9900</td>\n",
       "      <td>-0.168</td>\n",
       "      <td>0.01578</td>\n",
       "      <td>0.2148</td>\n",
       "      <td>0.1910</td>\n",
       "      <td>0.005855</td>\n",
       "      <td>0.1307</td>\n",
       "      <td>-0.0438</td>\n",
       "      <td>0.5321</td>\n",
       "      <td>0.9961</td>\n",
       "    </tr>\n",
       "  </tbody>\n",
       "</table>\n",
       "<p>2 rows × 70 columns</p>\n",
       "</div>"
      ],
      "text/plain": [
       "     Gene     Module  Module_membership  Membership_pval  logFC      adj_pval  \\\n",
       "0  TSPAN6      brown              0.920     2.390000e-84  0.735  3.960773e-12   \n",
       "1    TNMD  turquoise              0.099     1.570000e-01  0.122  7.311232e-01   \n",
       "\n",
       "           pval     sex  sex_pval  sex_adj  ...  race_asian_adj  \\\n",
       "0  2.609257e-13 -0.0354    0.6130   0.8816  ...          0.9909   \n",
       "1  6.558297e-01 -0.0740    0.2904   0.7050  ...          0.9900   \n",
       "\n",
       "   rs35705950_genotype_GG  rs35705950_genotype_GG_pval  \\\n",
       "0                  -0.111                      0.11340   \n",
       "1                  -0.168                      0.01578   \n",
       "\n",
       "   rs35705950_genotype_GG_adj  rs35705950_genotype_GT  \\\n",
       "0                      0.4203                  0.0958   \n",
       "1                      0.2148                  0.1910   \n",
       "\n",
       "   rs35705950_genotype_GT_pval  rs35705950_genotype_GT_adj  \\\n",
       "0                     0.170600                      0.4895   \n",
       "1                     0.005855                      0.1307   \n",
       "\n",
       "   rs35705950_genotype_TT  rs35705950_genotype_TT_pval  \\\n",
       "0                  0.0435                       0.5349   \n",
       "1                 -0.0438                       0.5321   \n",
       "\n",
       "   rs35705950_genotype_TT_adj  \n",
       "0                      0.9961  \n",
       "1                      0.9961  \n",
       "\n",
       "[2 rows x 70 columns]"
      ]
     },
     "execution_count": 108,
     "metadata": {},
     "output_type": "execute_result"
    }
   ],
   "source": [
    "mod_info = pd.read_csv('WGCNA_Results/WGCNA_Modules_info.txt', sep='\\t')\n",
    "mod_info.head(2)"
   ]
  },
  {
   "cell_type": "code",
   "execution_count": 109,
   "id": "2fd8a60f",
   "metadata": {
    "hidden": true
   },
   "outputs": [
    {
     "data": {
      "text/plain": [
       "(143, 70)"
      ]
     },
     "execution_count": 109,
     "metadata": {},
     "output_type": "execute_result"
    }
   ],
   "source": [
    "mod_info_targets = mod_info[mod_info['Gene'].map(lambda gene: gene in targets)]\n",
    "mod_info_targets.shape"
   ]
  },
  {
   "cell_type": "code",
   "execution_count": 110,
   "id": "6ae97fa7",
   "metadata": {
    "hidden": true
   },
   "outputs": [
    {
     "name": "stdout",
     "output_type": "stream",
     "text": [
      "Number of genes in this signature: 62\n"
     ]
    }
   ],
   "source": [
    "idx, patient_sig = [], []\n",
    "for _, row in mod_info_targets.iterrows():\n",
    "    gene = row['Gene']\n",
    "    if gene in genes:\n",
    "        idx.append(genes.index(gene))\n",
    "        patient_sig.append(row['logFC'])\n",
    "print(f'Number of genes in this signature: {len(idx)}')"
   ]
  },
  {
   "cell_type": "code",
   "execution_count": 111,
   "id": "3b5c954f",
   "metadata": {
    "code_folding": [
     0
    ],
    "hidden": true
   },
   "outputs": [
    {
     "name": "stdout",
     "output_type": "stream",
     "text": [
      "Cell: A375, Sigs: (7948, 10174), HQ sigs: (659, 10174), HQ drugs: (659,)\n",
      "(8607,), (8607, 62), (8607,)\n",
      "Cell: HA1E, Sigs: (7948, 10174), HQ sigs: (459, 10174), HQ drugs: (459,)\n",
      "(8407,), (8407, 62), (8407,)\n",
      "Cell: HELA, Sigs: (7948, 10174), HQ sigs: (276, 10174), HQ drugs: (276,)\n",
      "(8224,), (8224, 62), (8224,)\n",
      "Cell: HT29, Sigs: (7948, 10174), HQ sigs: (458, 10174), HQ drugs: (458,)\n",
      "(8406,), (8406, 62), (8406,)\n",
      "Cell: MCF7, Sigs: (7948, 10174), HQ sigs: (359, 10174), HQ drugs: (359,)\n",
      "(8307,), (8307, 62), (8307,)\n",
      "Cell: PC3, Sigs: (7948, 10174), HQ sigs: (432, 10174), HQ drugs: (432,)\n",
      "(8380,), (8380, 62), (8380,)\n",
      "Cell: YAPC, Sigs: (7948, 10174), HQ sigs: (259, 10174), HQ drugs: (259,)\n",
      "(8207,), (8207, 62), (8207,)\n"
     ]
    }
   ],
   "source": [
    "# Computing correlations \n",
    "output_drugs = defaultdict(list)\n",
    "output_correlations = defaultdict(list)\n",
    "output_pvals = defaultdict(list)\n",
    "output_drug_sources = defaultdict(list)\n",
    "for cell in cell_id_set:\n",
    "    sig_file = f'data/predictions/predicted_{cell}.npy'\n",
    "    hq_sig_file = f'data/predictions/hq_{cell}.npy'\n",
    "    hq_drugs = f'data/predictions/hq_{cell}_comps.npy'\n",
    "    sigs = np.load(sig_file)\n",
    "    hq_sigs = np.load(hq_sig_file)\n",
    "    hq_drugs = np.load(hq_drugs)\n",
    "    print(f'Cell: {cell}, Sigs: {sigs.shape}, HQ sigs: {hq_sigs.shape}, HQ drugs: {hq_drugs.shape}')\n",
    "    new_drug_list = np.concatenate((predicted_drugs, hq_drugs))\n",
    "    new_drug_sources = np.concatenate((drug_sources, np.array(['L1000']*hq_drugs.shape[0])))\n",
    "    drug_sig = np.concatenate((sigs, hq_sigs))\n",
    "    drug_sig = drug_sig[:, idx]\n",
    "    print(f'{new_drug_list.shape}, {drug_sig.shape}, {new_drug_sources.shape}')\n",
    "    correlations, pvals = compute_correlation(drug_sig, patient_sig)\n",
    "    output_drugs[cell] = new_drug_list\n",
    "    output_correlations[cell] = np.round(correlations, 4)\n",
    "    output_pvals[cell] = pvals\n",
    "    output_drug_sources[cell] = new_drug_sources"
   ]
  },
  {
   "cell_type": "code",
   "execution_count": 112,
   "id": "4484f5eb",
   "metadata": {
    "hidden": true
   },
   "outputs": [],
   "source": [
    "writer = pd.ExcelWriter(\"Results/candidate_drugs_DeepCE.xlsx\")"
   ]
  },
  {
   "cell_type": "code",
   "execution_count": 113,
   "id": "c6d86f59",
   "metadata": {
    "code_folding": [
     0
    ],
    "hidden": true
   },
   "outputs": [],
   "source": [
    "for cell in output_drugs:\n",
    "    drugs = output_drugs[cell]\n",
    "    sources = output_drug_sources[cell]\n",
    "    corrs = np.round(output_correlations[cell], 4) \n",
    "    pvals = np.round(output_pvals[cell], 4) \n",
    "    df = pd.DataFrame([drugs, sources, corrs, pvals]).T\n",
    "    df.columns = ['Drug', 'Source', 'Correlation', 'P-value']\n",
    "    df['Drug_Status'] = df['Drug'].map(lambda drug: status_dict[drug.lower()] \n",
    "                                       if drug.lower() in status_dict else \"NA\")\n",
    "    df.to_excel(writer, sheet_name=cell, index=False)\n",
    "writer.close()"
   ]
  },
  {
   "cell_type": "code",
   "execution_count": 114,
   "id": "f14a2a85",
   "metadata": {
    "hidden": true
   },
   "outputs": [],
   "source": [
    "output_correlations2 = {}\n",
    "output_pvals2 = {}\n",
    "output_sources2 = {}\n",
    "for cell in output_correlations:\n",
    "    output_correlations2[cell] = dict(zip(output_drugs[cell], output_correlations[cell]))\n",
    "    output_pvals2[cell] = dict(zip(output_drugs[cell], output_pvals[cell]))\n",
    "    output_sources2[cell] = dict(zip(output_drugs[cell], output_drug_sources[cell]))"
   ]
  },
  {
   "cell_type": "code",
   "execution_count": 115,
   "id": "1b60f54b",
   "metadata": {
    "hidden": true
   },
   "outputs": [
    {
     "data": {
      "text/plain": [
       "8367"
      ]
     },
     "execution_count": 115,
     "metadata": {},
     "output_type": "execute_result"
    }
   ],
   "source": [
    "all_candidate_drugs = {}\n",
    "for cell in output_drugs:\n",
    "    drugs = output_drugs[cell]\n",
    "    for drug in drugs:\n",
    "        all_candidate_drugs[drug] = output_sources2[cell][drug]\n",
    "len(all_candidate_drugs)"
   ]
  },
  {
   "cell_type": "code",
   "execution_count": 116,
   "id": "e0a142e8",
   "metadata": {
    "hidden": true
   },
   "outputs": [],
   "source": [
    "summary_info = []\n",
    "for drug, source in all_candidate_drugs.items():\n",
    "    drug_info = [drug, source]\n",
    "    for cell in cell_id_set:\n",
    "        if drug in output_correlations2[cell]:\n",
    "            drug_info.append(output_correlations2[cell][drug])\n",
    "            drug_info.append(output_pvals2[cell][drug])\n",
    "        else:\n",
    "            drug_info.append(pd.NA)\n",
    "            drug_info.append(pd.NA)\n",
    "    summary_info.append(drug_info)"
   ]
  },
  {
   "cell_type": "code",
   "execution_count": 117,
   "id": "dc8ae3cd",
   "metadata": {
    "hidden": true
   },
   "outputs": [],
   "source": [
    "columns = ['A375', 'A375_Pval', 'HA1E', 'HA1E_Pval', 'HELA', 'HELA_Pval', 'HT29', 'HT29_Pval', 'MCF7', 'MCF7_Pval',\n",
    "           'PC3', 'PC3_Pval', 'YAPC', 'YAPC_Pval']\n",
    "pval_cols = ['A375_Pval', 'HA1E_Pval', 'HELA_Pval', 'HT29_Pval', 'MCF7_Pval', 'PC3_Pval', 'YAPC_Pval']\n",
    "corr_cols = ['A375', 'HA1E', 'HELA', 'HT29', 'MCF7','PC3', 'YAPC']"
   ]
  },
  {
   "cell_type": "code",
   "execution_count": 118,
   "id": "5ef92ce1",
   "metadata": {
    "hidden": true
   },
   "outputs": [
    {
     "data": {
      "text/html": [
       "<div>\n",
       "<style scoped>\n",
       "    .dataframe tbody tr th:only-of-type {\n",
       "        vertical-align: middle;\n",
       "    }\n",
       "\n",
       "    .dataframe tbody tr th {\n",
       "        vertical-align: top;\n",
       "    }\n",
       "\n",
       "    .dataframe thead th {\n",
       "        text-align: right;\n",
       "    }\n",
       "</style>\n",
       "<table border=\"1\" class=\"dataframe\">\n",
       "  <thead>\n",
       "    <tr style=\"text-align: right;\">\n",
       "      <th></th>\n",
       "      <th>Drug</th>\n",
       "      <th>Source</th>\n",
       "      <th>A375</th>\n",
       "      <th>A375_Pval</th>\n",
       "      <th>HA1E</th>\n",
       "      <th>HA1E_Pval</th>\n",
       "      <th>HELA</th>\n",
       "      <th>HELA_Pval</th>\n",
       "      <th>HT29</th>\n",
       "      <th>HT29_Pval</th>\n",
       "      <th>MCF7</th>\n",
       "      <th>MCF7_Pval</th>\n",
       "      <th>PC3</th>\n",
       "      <th>PC3_Pval</th>\n",
       "      <th>YAPC</th>\n",
       "      <th>YAPC_Pval</th>\n",
       "    </tr>\n",
       "  </thead>\n",
       "  <tbody>\n",
       "    <tr>\n",
       "      <th>0</th>\n",
       "      <td>gibberellic-acid</td>\n",
       "      <td>L1000</td>\n",
       "      <td>0.1136</td>\n",
       "      <td>0.379228</td>\n",
       "      <td>0.232</td>\n",
       "      <td>0.069602</td>\n",
       "      <td>-0.1371</td>\n",
       "      <td>0.287813</td>\n",
       "      <td>0.274</td>\n",
       "      <td>0.031155</td>\n",
       "      <td>0.2905</td>\n",
       "      <td>0.022002</td>\n",
       "      <td>0.1842</td>\n",
       "      <td>0.151842</td>\n",
       "      <td>0.0477</td>\n",
       "      <td>0.712781</td>\n",
       "    </tr>\n",
       "    <tr>\n",
       "      <th>1</th>\n",
       "      <td>valproic-acid</td>\n",
       "      <td>L1000</td>\n",
       "      <td>0.19</td>\n",
       "      <td>0.139048</td>\n",
       "      <td>0.3465</td>\n",
       "      <td>0.005802</td>\n",
       "      <td>0.0725</td>\n",
       "      <td>0.575353</td>\n",
       "      <td>0.267</td>\n",
       "      <td>0.035913</td>\n",
       "      <td>0.154</td>\n",
       "      <td>0.231934</td>\n",
       "      <td>0.2594</td>\n",
       "      <td>0.041792</td>\n",
       "      <td>0.2092</td>\n",
       "      <td>0.102687</td>\n",
       "    </tr>\n",
       "  </tbody>\n",
       "</table>\n",
       "</div>"
      ],
      "text/plain": [
       "               Drug Source    A375 A375_Pval    HA1E HA1E_Pval    HELA  \\\n",
       "0  gibberellic-acid  L1000  0.1136  0.379228   0.232  0.069602 -0.1371   \n",
       "1     valproic-acid  L1000    0.19  0.139048  0.3465  0.005802  0.0725   \n",
       "\n",
       "  HELA_Pval   HT29 HT29_Pval    MCF7 MCF7_Pval     PC3  PC3_Pval    YAPC  \\\n",
       "0  0.287813  0.274  0.031155  0.2905  0.022002  0.1842  0.151842  0.0477   \n",
       "1  0.575353  0.267  0.035913   0.154  0.231934  0.2594  0.041792  0.2092   \n",
       "\n",
       "  YAPC_Pval  \n",
       "0  0.712781  \n",
       "1  0.102687  "
      ]
     },
     "execution_count": 118,
     "metadata": {},
     "output_type": "execute_result"
    }
   ],
   "source": [
    "summary_info = pd.DataFrame(summary_info)\n",
    "summary_info.columns = ['Drug', 'Source'] + columns\n",
    "summary_info.head(2)"
   ]
  },
  {
   "cell_type": "code",
   "execution_count": 119,
   "id": "dfff8953",
   "metadata": {
    "hidden": true
   },
   "outputs": [],
   "source": [
    "# Supplementary File 6\n",
    "summary_info.to_excel('Results/summary_info_DeepCE.xlsx', index=False)"
   ]
  },
  {
   "cell_type": "code",
   "execution_count": 120,
   "id": "255640d3",
   "metadata": {
    "hidden": true
   },
   "outputs": [],
   "source": [
    "summary_info = summary_info.fillna(1.0)"
   ]
  },
  {
   "cell_type": "code",
   "execution_count": 121,
   "id": "994e9c83",
   "metadata": {
    "hidden": true
   },
   "outputs": [],
   "source": [
    "cnts = []\n",
    "for idx, row in summary_info.iterrows():\n",
    "    cnt = 0\n",
    "    for cell in cell_id_set:\n",
    "        if (row[cell]<0) & (row[f'{cell}_Pval']<0.05):\n",
    "            cnt += 1\n",
    "    cnts.append(cnt)"
   ]
  },
  {
   "cell_type": "code",
   "execution_count": 122,
   "id": "18627c15",
   "metadata": {
    "hidden": true
   },
   "outputs": [],
   "source": [
    "summary_info['Count'] = cnts"
   ]
  },
  {
   "cell_type": "code",
   "execution_count": 123,
   "id": "782c7c5d",
   "metadata": {
    "hidden": true
   },
   "outputs": [],
   "source": [
    "cnts = []\n",
    "for idx, row in summary_info.iterrows():\n",
    "    cnt = 0\n",
    "    for cell in cell_id_set:\n",
    "        if (row[cell]<0) & (row[f'{cell}_Pval']<0.01):\n",
    "            cnt += 1\n",
    "    cnts.append(cnt)"
   ]
  },
  {
   "cell_type": "code",
   "execution_count": 124,
   "id": "ea869179",
   "metadata": {
    "hidden": true
   },
   "outputs": [],
   "source": [
    "summary_info['Count2'] = cnts"
   ]
  },
  {
   "cell_type": "code",
   "execution_count": 125,
   "id": "51bc603e",
   "metadata": {
    "hidden": true
   },
   "outputs": [],
   "source": [
    "summary_info.to_excel('Results/summary_info_DeepCE.xlsx', index=False)"
   ]
  }
 ],
 "metadata": {
  "kernelspec": {
   "display_name": "Python 3 (ipykernel)",
   "language": "python",
   "name": "python3"
  },
  "language_info": {
   "codemirror_mode": {
    "name": "ipython",
    "version": 3
   },
   "file_extension": ".py",
   "mimetype": "text/x-python",
   "name": "python",
   "nbconvert_exporter": "python",
   "pygments_lexer": "ipython3",
   "version": "3.9.19"
  }
 },
 "nbformat": 4,
 "nbformat_minor": 5
}
